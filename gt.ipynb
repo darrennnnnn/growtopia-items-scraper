{
  "nbformat": 4,
  "nbformat_minor": 0,
  "metadata": {
    "colab": {
      "provenance": []
    },
    "kernelspec": {
      "name": "python3",
      "display_name": "Python 3"
    },
    "language_info": {
      "name": "python"
    }
  },
  "cells": [
    {
      "cell_type": "code",
      "source": [
        "import requests\n",
        "from bs4 import BeautifulSoup\n",
        "import pandas as pd\n",
        "\n",
        "item_names = []\n",
        "\n",
        "for i in range(65, 91):\n",
        "  url = f'https://growtopia.fandom.com/wiki/Category:Clothes?from={chr(i)}'\n",
        "  response = requests.get(url)\n",
        "  response = response.content\n",
        "\n",
        "  soup = BeautifulSoup(response, 'html.parser')\n",
        "\n",
        "  ul = soup.find(\"ul\", class_=\"category-page__members-for-char\")\n",
        "  lists = soup.find_all(\"a\", class_=\"category-page__member-link\");\n",
        "\n",
        "  for i in lists:\n",
        "    title = i.attrs['title']\n",
        "    item_names.append(title)\n",
        "\n",
        "df = pd.DataFrame(item_names)\n",
        "df.to_csv('item_names.csv')\n",
        "csv = pd.read_csv('item_names.csv', usecols=[1])\n",
        "itemname = csv.values.tolist()"
      ],
      "metadata": {
        "id": "ZXeiQ0WfSvyv",
        "collapsed": true
      },
      "execution_count": 1,
      "outputs": []
    }
  ]
}